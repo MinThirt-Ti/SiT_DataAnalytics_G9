version https://git-lfs.github.com/spec/v1
oid sha256:a06344dcfd28f927ecf25a127c5e9de3a878217a1c33f606fbddbbc02338c8a1
size 21926
