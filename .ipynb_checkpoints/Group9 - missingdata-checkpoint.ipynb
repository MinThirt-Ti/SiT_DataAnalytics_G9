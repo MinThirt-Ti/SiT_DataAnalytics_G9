version https://git-lfs.github.com/spec/v1
oid sha256:d00f1467ed8199f6bfda1e62e7537b3cd76404b600a8e7bc105f8b8554371f5c
size 31084794
