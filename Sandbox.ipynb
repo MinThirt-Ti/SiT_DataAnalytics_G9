version https://git-lfs.github.com/spec/v1
oid sha256:3d8480404b9215acc88fc5f9e92d4997821c44f0b7b0a6df4036c2aef48dc1a3
size 100148
