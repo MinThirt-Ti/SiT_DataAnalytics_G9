version https://git-lfs.github.com/spec/v1
oid sha256:23d4ba9350e78cef2bcc7b21027befd7ed18a5c20632273390682ca2d8db35fc
size 33382670
