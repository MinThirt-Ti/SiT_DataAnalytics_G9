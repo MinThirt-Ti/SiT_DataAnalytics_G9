version https://git-lfs.github.com/spec/v1
oid sha256:7eba95932965b1fddb48334407ef3879c39a63e601d6e7ac72cfe50bef8f7bd0
size 31083025
